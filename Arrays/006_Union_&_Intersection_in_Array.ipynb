{
 "cells": [
  {
   "cell_type": "markdown",
   "id": "serial-perception",
   "metadata": {},
   "source": [
    "Find the Union and Intersection of the two sorted arrays."
   ]
  },
  {
   "cell_type": "code",
   "execution_count": 2,
   "id": "desperate-semester",
   "metadata": {},
   "outputs": [
    {
     "name": "stdout",
     "output_type": "stream",
     "text": [
      "Union of given Arrays:  [1, 2, 5, 6, 7, 9, 1, 3, 4, 7, 8, 9]\n",
      "Intersection of given Arrays:  [1, 7, 9]\n"
     ]
    }
   ],
   "source": [
    "arr1 = [1, 2, 5, 6, 7, 9]\n",
    "arr2 = [1, 3, 4, 7, 8, 9]\n",
    "\n",
    "intersection = []\n",
    "union = arr1 + arr2\n",
    "\n",
    "n1 = len(arr1)\n",
    "n2 = len(arr2)\n",
    "\n",
    "for i in range(n1):\n",
    "    for j in range(n2):\n",
    "        if arr1[i] == arr2[j]:\n",
    "            intersection.append(arr1[i])\n",
    "            \n",
    "print(\"Union of given Arrays: \", union)\n",
    "print(\"Intersection of given Arrays: \", intersection)"
   ]
  },
  {
   "cell_type": "code",
   "execution_count": null,
   "id": "usual-convergence",
   "metadata": {},
   "outputs": [],
   "source": []
  }
 ],
 "metadata": {
  "kernelspec": {
   "display_name": "Python 3",
   "language": "python",
   "name": "python3"
  },
  "language_info": {
   "codemirror_mode": {
    "name": "ipython",
    "version": 3
   },
   "file_extension": ".py",
   "mimetype": "text/x-python",
   "name": "python",
   "nbconvert_exporter": "python",
   "pygments_lexer": "ipython3",
   "version": "3.8.5"
  }
 },
 "nbformat": 4,
 "nbformat_minor": 5
}
