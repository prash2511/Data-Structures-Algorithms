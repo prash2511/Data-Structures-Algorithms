{
 "cells": [
  {
   "cell_type": "markdown",
   "id": "behavioral-valve",
   "metadata": {},
   "source": [
    "Minimise the maximum difference between heights [V.IMP]"
   ]
  },
  {
   "cell_type": "code",
   "execution_count": 3,
   "id": "retired-indicator",
   "metadata": {},
   "outputs": [
    {
     "name": "stdout",
     "output_type": "stream",
     "text": [
      "Minimized maximum difference:  7\n"
     ]
    }
   ],
   "source": [
    "import math\n",
    "\n",
    "def getMinDiff(arr, n, k):\n",
    "    \n",
    "    ans = arr[n-1] - arr[0]\n",
    "    smallest = arr[0] + k\n",
    "    largest = arr[n-1] - k\n",
    "    \n",
    "    for i in range(n-1):\n",
    "        mi = min(smallest, arr[i+1] - k)\n",
    "        ma = max(largest, arr[i] + k)\n",
    "        \n",
    "        if mi < 0:\n",
    "            continue\n",
    "        \n",
    "        ans = min(ans, ma - mi)\n",
    "        \n",
    "    return ans\n",
    "    \n",
    "    \n",
    "    \n",
    "arr = [2, 6, 3, 4, 7, 2, 10, 3, 2, 1]\n",
    "n = 10\n",
    "k = 5\n",
    "              \n",
    "arr.sort()\n",
    "sol = getMinDiff(arr, n, k)\n",
    "              \n",
    "print(\"Minimized maximum difference: \",sol)"
   ]
  },
  {
   "cell_type": "code",
   "execution_count": null,
   "id": "military-acoustic",
   "metadata": {},
   "outputs": [],
   "source": []
  }
 ],
 "metadata": {
  "kernelspec": {
   "display_name": "Python 3",
   "language": "python",
   "name": "python3"
  },
  "language_info": {
   "codemirror_mode": {
    "name": "ipython",
    "version": 3
   },
   "file_extension": ".py",
   "mimetype": "text/x-python",
   "name": "python",
   "nbconvert_exporter": "python",
   "pygments_lexer": "ipython3",
   "version": "3.8.5"
  }
 },
 "nbformat": 4,
 "nbformat_minor": 5
}
