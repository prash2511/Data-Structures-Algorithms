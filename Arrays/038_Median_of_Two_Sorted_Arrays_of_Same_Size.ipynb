{
 "cells": [
  {
   "cell_type": "markdown",
   "id": "concrete-thing",
   "metadata": {},
   "source": [
    "Median of 2 sorted arrays of equal size"
   ]
  },
  {
   "cell_type": "markdown",
   "id": "external-garage",
   "metadata": {},
   "source": [
    "Time - O(N)\n",
    "Space - O(1)"
   ]
  },
  {
   "cell_type": "code",
   "execution_count": 4,
   "id": "included-client",
   "metadata": {},
   "outputs": [
    {
     "name": "stdout",
     "output_type": "stream",
     "text": [
      "16\n"
     ]
    }
   ],
   "source": [
    "def getMedian(arr1, arr2, n):\n",
    "    \n",
    "    i = n - 1\n",
    "    j = 0\n",
    "    \n",
    "    while(arr1[i] > arr2[j] and i > -1 and j < n):\n",
    "        arr1[i], arr2[j] = arr2[j], arr1[i]\n",
    "        i -= 1\n",
    "        j += 1\n",
    "        \n",
    "    arr1.sort()\n",
    "    arr2.sort()\n",
    "    \n",
    "    median = (arr1[n-1] + arr2[0]) // 2\n",
    "    \n",
    "    \n",
    "    return median\n",
    "\n",
    "\n",
    "arr1 = [1, 12, 15, 26, 38]\n",
    "arr2 = [2, 13, 17, 30, 45]\n",
    "\n",
    "n1 = len(arr1)\n",
    "n2 = len(arr2)\n",
    "\n",
    "if n1 == n2:\n",
    "    print(getMedian(arr1, arr2, n1))\n",
    "else:\n",
    "    print(\"Different array sizes!\")"
   ]
  }
 ],
 "metadata": {
  "kernelspec": {
   "display_name": "Python 3",
   "language": "python",
   "name": "python3"
  },
  "language_info": {
   "codemirror_mode": {
    "name": "ipython",
    "version": 3
   },
   "file_extension": ".py",
   "mimetype": "text/x-python",
   "name": "python",
   "nbconvert_exporter": "python",
   "pygments_lexer": "ipython3",
   "version": "3.8.5"
  }
 },
 "nbformat": 4,
 "nbformat_minor": 5
}
