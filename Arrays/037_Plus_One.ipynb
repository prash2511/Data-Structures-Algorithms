{
 "cells": [
  {
   "cell_type": "markdown",
   "id": "suitable-tobago",
   "metadata": {},
   "source": [
    "Plus One"
   ]
  },
  {
   "cell_type": "markdown",
   "id": "dense-session",
   "metadata": {},
   "source": [
    "Time - O(N)\n",
    "Space = O(1)"
   ]
  },
  {
   "cell_type": "code",
   "execution_count": 25,
   "id": "bronze-winner",
   "metadata": {},
   "outputs": [
    {
     "name": "stdout",
     "output_type": "stream",
     "text": [
      "[1, 2, 5]\n"
     ]
    }
   ],
   "source": [
    "class Solution:\n",
    "    def increment(arr, n):\n",
    "        \n",
    "        arr[n-1] += 1\n",
    "        carry = arr[n-1] // 10\n",
    "        arr[n-1] = arr[n-1] % 10\n",
    "        \n",
    "        for i in range(n-2, -1, -1):\n",
    "            if carry == 1:\n",
    "                arr[i] += 1\n",
    "                carry = arr[i] // 10\n",
    "                arr[i] = arr[i] % 10\n",
    "            \n",
    "        if carry == 1:\n",
    "            arr.insert(0, 1)\n",
    "            \n",
    "        return arr\n",
    "        \n",
    "        \n",
    "arr = [1, 2, 4]\n",
    "#arr = [9, 9, 9, 9]\n",
    "n = len(arr)\n",
    "print(Solution.increment(arr, n))        "
   ]
  },
  {
   "cell_type": "code",
   "execution_count": null,
   "id": "nearby-thanks",
   "metadata": {},
   "outputs": [],
   "source": []
  }
 ],
 "metadata": {
  "kernelspec": {
   "display_name": "Python 3",
   "language": "python",
   "name": "python3"
  },
  "language_info": {
   "codemirror_mode": {
    "name": "ipython",
    "version": 3
   },
   "file_extension": ".py",
   "mimetype": "text/x-python",
   "name": "python",
   "nbconvert_exporter": "python",
   "pygments_lexer": "ipython3",
   "version": "3.8.5"
  }
 },
 "nbformat": 4,
 "nbformat_minor": 5
}
