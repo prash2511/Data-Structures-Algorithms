{
 "cells": [
  {
   "cell_type": "markdown",
   "id": "golden-class",
   "metadata": {},
   "source": [
    "find maximum product subarray "
   ]
  },
  {
   "cell_type": "markdown",
   "id": "patent-sessions",
   "metadata": {},
   "source": [
    "O(N)"
   ]
  },
  {
   "cell_type": "code",
   "execution_count": 6,
   "id": "ongoing-window",
   "metadata": {},
   "outputs": [
    {
     "name": "stdout",
     "output_type": "stream",
     "text": [
      "360\n"
     ]
    }
   ],
   "source": [
    "def maxProduct(arr, n):\n",
    "    cur_max = arr[0]\n",
    "    prev_max = arr[0]\n",
    "    prev_min = arr[0]\n",
    "    ans = arr[0]\n",
    "    \n",
    "    for i in range(1, n):\n",
    "        cur_max = max(prev_max * arr[i], prev_min * arr[i], arr[i])\n",
    "        cur_min = min(prev_max * arr[i], prev_min * arr[i], arr[i])\n",
    "        \n",
    "        ans = max(ans, cur_max)\n",
    "        \n",
    "        prev_max = cur_max\n",
    "        prev_min = cur_min\n",
    "        \n",
    "        \n",
    "    return ans\n",
    "\n",
    "\n",
    "arr = [6, 3, -10, 1, -2, 0, 9, 5, 2]\n",
    "n = len(arr)\n",
    "\n",
    "print(maxProduct(arr, n))"
   ]
  }
 ],
 "metadata": {
  "kernelspec": {
   "display_name": "Python 3",
   "language": "python",
   "name": "python3"
  },
  "language_info": {
   "codemirror_mode": {
    "name": "ipython",
    "version": 3
   },
   "file_extension": ".py",
   "mimetype": "text/x-python",
   "name": "python",
   "nbconvert_exporter": "python",
   "pygments_lexer": "ipython3",
   "version": "3.8.5"
  }
 },
 "nbformat": 4,
 "nbformat_minor": 5
}
