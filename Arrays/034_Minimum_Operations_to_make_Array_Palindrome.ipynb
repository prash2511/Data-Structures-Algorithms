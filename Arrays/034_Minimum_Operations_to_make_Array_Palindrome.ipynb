{
 "cells": [
  {
   "cell_type": "markdown",
   "id": "vietnamese-webster",
   "metadata": {},
   "source": [
    "Minimum no. of operations required to make an array palindrome"
   ]
  },
  {
   "cell_type": "markdown",
   "id": "southwest-university",
   "metadata": {},
   "source": [
    "Time - O(N)\n",
    "Space - O(1)"
   ]
  },
  {
   "cell_type": "code",
   "execution_count": 22,
   "id": "solid-laser",
   "metadata": {},
   "outputs": [
    {
     "name": "stdout",
     "output_type": "stream",
     "text": [
      "2\n"
     ]
    }
   ],
   "source": [
    "def PalinArr(arr, n):\n",
    "    \n",
    "    mi = 0\n",
    "    i = 0\n",
    "    j = n - 1\n",
    "    \n",
    "    while i <= j:\n",
    "        \n",
    "        if arr[i] == arr[j]:\n",
    "            i += 1\n",
    "            j -= 1\n",
    "            \n",
    "        elif arr[i] < arr[j]:\n",
    "            i += 1\n",
    "            arr[i] += arr[i-1]\n",
    "            mi += 1\n",
    "            \n",
    "        else:\n",
    "            j -= 1\n",
    "            arr[j] += arr[j+1]\n",
    "            mi += 1\n",
    "            \n",
    "    return mi\n",
    "\n",
    "\n",
    "arr = [1, 2, 3, 5, 10, 1]\n",
    "n = len(arr)\n",
    "\n",
    "print(PalinArr(arr, n))"
   ]
  }
 ],
 "metadata": {
  "kernelspec": {
   "display_name": "Python 3",
   "language": "python",
   "name": "python3"
  },
  "language_info": {
   "codemirror_mode": {
    "name": "ipython",
    "version": 3
   },
   "file_extension": ".py",
   "mimetype": "text/x-python",
   "name": "python",
   "nbconvert_exporter": "python",
   "pygments_lexer": "ipython3",
   "version": "3.8.5"
  }
 },
 "nbformat": 4,
 "nbformat_minor": 5
}
