{
 "cells": [
  {
   "cell_type": "markdown",
   "id": "conceptual-empty",
   "metadata": {},
   "source": [
    "Find the maximum and minimum element in an array"
   ]
  },
  {
   "cell_type": "code",
   "execution_count": 16,
   "id": "twenty-travel",
   "metadata": {},
   "outputs": [
    {
     "name": "stdout",
     "output_type": "stream",
     "text": [
      "Enter number of elements: 6\n",
      "4\n",
      "1\n",
      "6\n",
      "3\n",
      "8\n",
      "5\n",
      "Minimum : 1 Maximum : 8\n"
     ]
    }
   ],
   "source": [
    "arr = []\n",
    "\n",
    "n = int(input(\"Enter number of elements: \"))\n",
    "\n",
    "for i in range(n):\n",
    "    a = int(input())\n",
    "    arr.append(a)\n",
    "\n",
    "min = arr[0]\n",
    "max = arr[0]\n",
    "\n",
    "for j in range(n):\n",
    "    if arr[j] < min:\n",
    "        min = arr[j]\n",
    "    if arr[j] > max:\n",
    "        max = arr[j]\n",
    "\n",
    "print(\"Minimum :\", min, \"Maximum :\",max)"
   ]
  },
  {
   "cell_type": "code",
   "execution_count": 26,
   "id": "fitted-breakdown",
   "metadata": {},
   "outputs": [
    {
     "name": "stdout",
     "output_type": "stream",
     "text": [
      "Enter number of elements: 6\n",
      "4 1 6 3 8 5 9 0\n",
      "Minimum : 1 Maximum : 8\n"
     ]
    }
   ],
   "source": [
    "n = int(input(\"Enter number of elements: \"))\n",
    "\n",
    "arr = [int(i) for i in input().split()]\n",
    "\n",
    "\n",
    "min = arr[0]\n",
    "max = arr[0]\n",
    "\n",
    "for j in range(n):\n",
    "    if arr[j] < min:\n",
    "        min = arr[j]\n",
    "    if arr[j] > max:\n",
    "        max = arr[j]\n",
    "\n",
    "print(\"Minimum :\", min, \"Maximum :\",max)"
   ]
  },
  {
   "cell_type": "code",
   "execution_count": 25,
   "id": "signed-habitat",
   "metadata": {},
   "outputs": [
    {
     "name": "stdout",
     "output_type": "stream",
     "text": [
      "Enter number of elements: 6\n",
      "4 1 6 3 8 5\n",
      "Minimum : 1 Maximum : 8\n"
     ]
    }
   ],
   "source": [
    "def minmax(arr, n):\n",
    "    min = arr[0]\n",
    "    max = arr[0]\n",
    "\n",
    "    for j in range(n):\n",
    "        if arr[j] < min:\n",
    "            min = arr[j]\n",
    "        if arr[j] > max:\n",
    "            max = arr[j]\n",
    "    return min, max\n",
    "            \n",
    "    \n",
    "n = int(input(\"Enter number of elements: \"))\n",
    "\n",
    "arr = [int(i) for i in input().split()]\n",
    "\n",
    "mn, mx = minmax(arr, n)\n",
    "\n",
    "print(\"Minimum :\", mn, \"Maximum :\", mx)"
   ]
  },
  {
   "cell_type": "code",
   "execution_count": null,
   "id": "challenging-roman",
   "metadata": {},
   "outputs": [],
   "source": []
  }
 ],
 "metadata": {
  "kernelspec": {
   "display_name": "Python 3",
   "language": "python",
   "name": "python3"
  },
  "language_info": {
   "codemirror_mode": {
    "name": "ipython",
    "version": 3
   },
   "file_extension": ".py",
   "mimetype": "text/x-python",
   "name": "python",
   "nbconvert_exporter": "python",
   "pygments_lexer": "ipython3",
   "version": "3.8.5"
  }
 },
 "nbformat": 4,
 "nbformat_minor": 5
}
