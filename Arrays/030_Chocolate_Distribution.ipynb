{
 "cells": [
  {
   "cell_type": "markdown",
   "id": "designing-freeware",
   "metadata": {},
   "source": [
    "Chocolate Distribution problem"
   ]
  },
  {
   "cell_type": "markdown",
   "id": "clean-intensity",
   "metadata": {},
   "source": [
    "Time - O(N)\n",
    "Space - O(1)"
   ]
  },
  {
   "cell_type": "code",
   "execution_count": 10,
   "id": "sharp-sperm",
   "metadata": {},
   "outputs": [
    {
     "name": "stdout",
     "output_type": "stream",
     "text": [
      "2\n"
     ]
    }
   ],
   "source": [
    "class Solution:\n",
    "    def findMinDiff(arr, n, m):\n",
    "        \n",
    "        arr.sort()\n",
    "        \n",
    "        ans = arr[n - 1]\n",
    "        \n",
    "        if n == m:\n",
    "            ans =  arr[n-1] - arr[0]\n",
    "            return ans\n",
    "        \n",
    "        else:\n",
    "            for i in range(0, n - m + 1):\n",
    "                ans = min(arr[i + m - 1] - arr[i], ans)\n",
    "            \n",
    "        return ans\n",
    "        \n",
    "            \n",
    "arr = [3, 2, 6, 4, 8, 12]\n",
    "n = len(arr)\n",
    "m = 3\n",
    "\n",
    "print(Solution.findMinDiff(arr, n, m))"
   ]
  }
 ],
 "metadata": {
  "kernelspec": {
   "display_name": "Python 3",
   "language": "python",
   "name": "python3"
  },
  "language_info": {
   "codemirror_mode": {
    "name": "ipython",
    "version": 3
   },
   "file_extension": ".py",
   "mimetype": "text/x-python",
   "name": "python",
   "nbconvert_exporter": "python",
   "pygments_lexer": "ipython3",
   "version": "3.8.5"
  }
 },
 "nbformat": 4,
 "nbformat_minor": 5
}
