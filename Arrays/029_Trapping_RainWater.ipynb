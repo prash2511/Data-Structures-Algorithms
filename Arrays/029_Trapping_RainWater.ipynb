{
 "cells": [
  {
   "cell_type": "markdown",
   "id": "southeast-encyclopedia",
   "metadata": {},
   "source": [
    "Trapping Rain water problem"
   ]
  },
  {
   "cell_type": "markdown",
   "id": "turned-apple",
   "metadata": {},
   "source": [
    "Time - O(N)\n",
    "Space - O(N)"
   ]
  },
  {
   "cell_type": "code",
   "execution_count": 5,
   "id": "sealed-coating",
   "metadata": {},
   "outputs": [
    {
     "name": "stdout",
     "output_type": "stream",
     "text": [
      "20\n"
     ]
    }
   ],
   "source": [
    "def trappingWater(arr, n):\n",
    "    \n",
    "    water = 0\n",
    "    \n",
    "    left = [0] * n\n",
    "    right = [0] * n\n",
    "    \n",
    "    left[0] = arr[0]\n",
    "    right[n-1] = arr[n-1]\n",
    "    \n",
    "    for i in range(0, n):\n",
    "        left[i] = max(left[i-1], arr[i])\n",
    "        \n",
    "    for i in range(n-2, -1, -1):\n",
    "        right[i] = max(right[i+1], arr[i])\n",
    "        \n",
    "    for i in range(n):\n",
    "        water += (min(left[i], right[i]) - arr[i])\n",
    "        \n",
    "    return water\n",
    "        \n",
    "arr = [3, 0, 0, 9, 0, 8, 2, 0, 4]\n",
    "n = len(arr)\n",
    "\n",
    "print(trappingWater(arr, n))"
   ]
  }
 ],
 "metadata": {
  "kernelspec": {
   "display_name": "Python 3",
   "language": "python",
   "name": "python3"
  },
  "language_info": {
   "codemirror_mode": {
    "name": "ipython",
    "version": 3
   },
   "file_extension": ".py",
   "mimetype": "text/x-python",
   "name": "python",
   "nbconvert_exporter": "python",
   "pygments_lexer": "ipython3",
   "version": "3.8.5"
  }
 },
 "nbformat": 4,
 "nbformat_minor": 5
}
