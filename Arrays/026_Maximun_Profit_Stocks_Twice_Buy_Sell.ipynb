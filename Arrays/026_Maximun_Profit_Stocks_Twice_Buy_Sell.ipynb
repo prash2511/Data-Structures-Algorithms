{
 "cells": [
  {
   "cell_type": "markdown",
   "id": "automatic-kitty",
   "metadata": {},
   "source": [
    "Maximum profit by buying and selling a share atmost twice"
   ]
  },
  {
   "cell_type": "markdown",
   "id": "sacred-generic",
   "metadata": {},
   "source": [
    "Time - O(N)\n",
    "Space - O(N)"
   ]
  },
  {
   "cell_type": "code",
   "execution_count": 13,
   "id": "abroad-dispute",
   "metadata": {},
   "outputs": [
    {
     "name": "stdout",
     "output_type": "stream",
     "text": [
      "100\n"
     ]
    }
   ],
   "source": [
    "def maxProfit(arr, n):\n",
    "    profit = [0] * n\n",
    "    max_price = arr[n-1]\n",
    "    \n",
    "    for i in range(n-2, 0, -1):\n",
    "        if arr[i] > max_price:\n",
    "            max_price = arr[i]\n",
    "            \n",
    "        profit[i] = max(profit[i+1] , max_price - arr[i])\n",
    "        \n",
    "    min_price = arr[0]\n",
    "    \n",
    "    for i in range(1, n):\n",
    "        if arr[i] < min_price:\n",
    "            min_price = arr[i]\n",
    "            \n",
    "        profit[i] = max(profit[i-1], profit[i] + (arr[i] - min_price))\n",
    "        \n",
    "    return profit[n-1]\n",
    "\n",
    "        \n",
    "arr = [2, 30, 15, 10, 8, 25, 80]\n",
    "n = len(arr)\n",
    "\n",
    "print(maxProfit(arr, n))"
   ]
  },
  {
   "cell_type": "code",
   "execution_count": null,
   "id": "unknown-milwaukee",
   "metadata": {},
   "outputs": [],
   "source": [
    "# Explanation -->\n",
    "# first buy at 2 sell at 30 --> profit 28\n",
    "# second buy at 8 sell at 80 --> profit 72\n",
    "# total 28 + 72 --> 100"
   ]
  }
 ],
 "metadata": {
  "kernelspec": {
   "display_name": "Python 3",
   "language": "python",
   "name": "python3"
  },
  "language_info": {
   "codemirror_mode": {
    "name": "ipython",
    "version": 3
   },
   "file_extension": ".py",
   "mimetype": "text/x-python",
   "name": "python",
   "nbconvert_exporter": "python",
   "pygments_lexer": "ipython3",
   "version": "3.8.5"
  }
 },
 "nbformat": 4,
 "nbformat_minor": 5
}
