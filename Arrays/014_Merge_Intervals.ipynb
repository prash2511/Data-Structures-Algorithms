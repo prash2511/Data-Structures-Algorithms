{
 "cells": [
  {
   "cell_type": "markdown",
   "id": "known-biography",
   "metadata": {},
   "source": [
    "Merge Intervals"
   ]
  },
  {
   "cell_type": "code",
   "execution_count": 26,
   "id": "posted-brook",
   "metadata": {},
   "outputs": [
    {
     "name": "stdout",
     "output_type": "stream",
     "text": [
      "[[1, 6], [8, 10], [15, 18]]\n"
     ]
    }
   ],
   "source": [
    "\n",
    "class solution:\n",
    "    def merge(intervals):\n",
    "        \n",
    "        if intervals == []:\n",
    "            return []\n",
    "        \n",
    "        result = []\n",
    "        \n",
    "        intervals.sort()\n",
    "        \n",
    "        for interval in intervals:\n",
    "            if result == [] or result[-1][1] < interval[0]:\n",
    "                result.append(interval)\n",
    "            else:\n",
    "                result[-1][1] = max(result[-1][1], interval[1])\n",
    "                \n",
    "        return result\n",
    "    \n",
    "    \n",
    "    \n",
    "intervals = [[2,6],[1,3],[8,10],[15,18]]\n",
    "\n",
    "ans = solution.merge(intervals)\n",
    "\n",
    "print(ans)"
   ]
  },
  {
   "cell_type": "code",
   "execution_count": null,
   "id": "peaceful-reynolds",
   "metadata": {},
   "outputs": [],
   "source": []
  }
 ],
 "metadata": {
  "kernelspec": {
   "display_name": "Python 3",
   "language": "python",
   "name": "python3"
  },
  "language_info": {
   "codemirror_mode": {
    "name": "ipython",
    "version": 3
   },
   "file_extension": ".py",
   "mimetype": "text/x-python",
   "name": "python",
   "nbconvert_exporter": "python",
   "pygments_lexer": "ipython3",
   "version": "3.8.5"
  }
 },
 "nbformat": 4,
 "nbformat_minor": 5
}
