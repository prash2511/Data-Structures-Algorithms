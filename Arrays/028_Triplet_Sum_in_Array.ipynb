{
 "cells": [
  {
   "cell_type": "markdown",
   "id": "married-point",
   "metadata": {},
   "source": [
    "Find the triplet that sum to a given value"
   ]
  },
  {
   "cell_type": "markdown",
   "id": "mature-macintosh",
   "metadata": {},
   "source": [
    "time - O(N)\n",
    "Space - O(1)"
   ]
  },
  {
   "cell_type": "code",
   "execution_count": 46,
   "id": "assured-relaxation",
   "metadata": {},
   "outputs": [
    {
     "name": "stdout",
     "output_type": "stream",
     "text": [
      "1\n"
     ]
    }
   ],
   "source": [
    "class Solution:\n",
    "    def find3Numbers(A, n, X):\n",
    "        \n",
    "        A.sort()\n",
    "        \n",
    "        for i in range(n-2):\n",
    "            l = i + 1\n",
    "            r = n - 1\n",
    "            \n",
    "            while(l < r):\n",
    "                if A[l] + A[i] + A[r] == X:\n",
    "                    return 1\n",
    "                \n",
    "                elif A[l] + A[i] + A[r] < X:\n",
    "                    l += 1\n",
    "                    \n",
    "                else:\n",
    "                    r -= 1\n",
    "                    \n",
    "        return 0\n",
    "    \n",
    "    \n",
    "    \n",
    "    \n",
    "X = 13\n",
    "arr = [1, 4, 45, 6, 10, 8]\n",
    "n = len(arr)\n",
    "\n",
    "print(find3numbers(arr, n, X))"
   ]
  },
  {
   "cell_type": "code",
   "execution_count": null,
   "id": "vocal-poker",
   "metadata": {},
   "outputs": [],
   "source": []
  }
 ],
 "metadata": {
  "kernelspec": {
   "display_name": "Python 3",
   "language": "python",
   "name": "python3"
  },
  "language_info": {
   "codemirror_mode": {
    "name": "ipython",
    "version": 3
   },
   "file_extension": ".py",
   "mimetype": "text/x-python",
   "name": "python",
   "nbconvert_exporter": "python",
   "pygments_lexer": "ipython3",
   "version": "3.8.5"
  }
 },
 "nbformat": 4,
 "nbformat_minor": 5
}
