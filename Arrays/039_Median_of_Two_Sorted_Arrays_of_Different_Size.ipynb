{
 "cells": [
  {
   "cell_type": "markdown",
   "id": "polished-festival",
   "metadata": {},
   "source": [
    "Median of 2 sorted arrays of different size"
   ]
  },
  {
   "cell_type": "markdown",
   "id": "legendary-sunrise",
   "metadata": {},
   "source": [
    "Time - O(m+n)\n",
    "Space - O(m+n)"
   ]
  },
  {
   "cell_type": "code",
   "execution_count": 20,
   "id": "level-belarus",
   "metadata": {},
   "outputs": [
    {
     "name": "stdout",
     "output_type": "stream",
     "text": [
      "11\n"
     ]
    }
   ],
   "source": [
    "def getMedian(arr1, arr2, m, n):\n",
    "    \n",
    "    ln = m + n\n",
    "    arr = []\n",
    "    \n",
    "    i = 0\n",
    "    j = 0\n",
    "    \n",
    "    while(i < m and j < n):\n",
    "        if arr1[i] < arr2[j]:\n",
    "            arr.append(arr1[i])\n",
    "            i += 1\n",
    "        else:\n",
    "            arr.append(arr2[j])\n",
    "            j += 1\n",
    "            \n",
    "    while(i < m):\n",
    "        arr.append(arr1[i])\n",
    "        i += 1\n",
    "    \n",
    "    while(j < n):\n",
    "        arr.append(arr2[j])\n",
    "        j += 1\n",
    "        \n",
    "    if ln % 2 == 0:\n",
    "        med = ((arr[ln // 2]) + (arr[ln // 2 - 1])) // 2\n",
    "        \n",
    "    elif ln % 2 == 1:\n",
    "        med = arr[ln // 2]\n",
    "        \n",
    "    return med\n",
    "\n",
    "\n",
    "\n",
    "\n",
    "\n",
    "arr1 = [2, 3, 5, 8]\n",
    "arr2 = [10, 12, 14, 16, 18, 20]\n",
    "\n",
    "m = len(arr1)\n",
    "n = len(arr2)\n",
    "\n",
    "print(getMedian(arr1, arr2, m, n))"
   ]
  }
 ],
 "metadata": {
  "kernelspec": {
   "display_name": "Python 3",
   "language": "python",
   "name": "python3"
  },
  "language_info": {
   "codemirror_mode": {
    "name": "ipython",
    "version": 3
   },
   "file_extension": ".py",
   "mimetype": "text/x-python",
   "name": "python",
   "nbconvert_exporter": "python",
   "pygments_lexer": "ipython3",
   "version": "3.8.5"
  }
 },
 "nbformat": 4,
 "nbformat_minor": 5
}
