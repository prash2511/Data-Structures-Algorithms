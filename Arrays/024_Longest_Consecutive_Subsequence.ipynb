{
 "cells": [
  {
   "cell_type": "markdown",
   "id": "presidential-effectiveness",
   "metadata": {},
   "source": [
    "Find longest coinsecutive subsequence"
   ]
  },
  {
   "cell_type": "code",
   "execution_count": null,
   "id": "useful-scheme",
   "metadata": {},
   "outputs": [],
   "source": [
    "O(NlogN)"
   ]
  },
  {
   "cell_type": "code",
   "execution_count": 54,
   "id": "planned-sport",
   "metadata": {},
   "outputs": [
    {
     "name": "stdout",
     "output_type": "stream",
     "text": [
      "6\n"
     ]
    }
   ],
   "source": [
    "def longestSubsequence(a, n):\n",
    "    \n",
    "    ans = 0\n",
    "    count = 0\n",
    "    a.sort()\n",
    "    \n",
    "    arr = []\n",
    "    arr.append(a[0])\n",
    "    \n",
    "    for i in range(1, n):\n",
    "        if a[i] != a[i - 1]:\n",
    "            arr.append(a[i])\n",
    "    m = len(arr)\n",
    "    \n",
    "    for i in range(m):\n",
    "        if a[i] == a[i-1] + 1:\n",
    "            count += 1\n",
    "        else:\n",
    "            count = 1\n",
    "            \n",
    "        ans = max(ans, count)\n",
    "        \n",
    "    return ans\n",
    "\n",
    "\n",
    "\n",
    "a = [2,6,1,9,4,5,3]\n",
    "n = len(a)\n",
    "\n",
    "print(longestSubsequence(a, n))"
   ]
  },
  {
   "cell_type": "code",
   "execution_count": null,
   "id": "democratic-harvest",
   "metadata": {},
   "outputs": [],
   "source": [
    "# Explanation --> a = [2,6,1,9,4,5,3]\n",
    "# Ans ----------> 6 ----------------> 1, 2, 3, 4, 5, 6"
   ]
  }
 ],
 "metadata": {
  "kernelspec": {
   "display_name": "Python 3",
   "language": "python",
   "name": "python3"
  },
  "language_info": {
   "codemirror_mode": {
    "name": "ipython",
    "version": 3
   },
   "file_extension": ".py",
   "mimetype": "text/x-python",
   "name": "python",
   "nbconvert_exporter": "python",
   "pygments_lexer": "ipython3",
   "version": "3.8.5"
  }
 },
 "nbformat": 4,
 "nbformat_minor": 5
}
