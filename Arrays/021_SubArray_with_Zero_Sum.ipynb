{
 "cells": [
  {
   "cell_type": "markdown",
   "id": "billion-retreat",
   "metadata": {},
   "source": [
    "Find if there is any subarray with sum equal to 0"
   ]
  },
  {
   "cell_type": "code",
   "execution_count": null,
   "id": "systematic-bracelet",
   "metadata": {},
   "outputs": [],
   "source": [
    "O(N)"
   ]
  },
  {
   "cell_type": "code",
   "execution_count": 46,
   "id": "standard-assessment",
   "metadata": {},
   "outputs": [
    {
     "data": {
      "text/plain": [
       "True"
      ]
     },
     "execution_count": 46,
     "metadata": {},
     "output_type": "execute_result"
    }
   ],
   "source": [
    "def zerosum(arr, n):\n",
    "    sum = 0\n",
    "    s = set()\n",
    "    \n",
    "    for i in range(n):\n",
    "        sum += arr[i]\n",
    "        \n",
    "        if sum == 0 or sum in s:\n",
    "            return True\n",
    "        \n",
    "        s.add(sum)\n",
    "        \n",
    "    return False\n",
    "\n",
    "\n",
    "\n",
    "arr = [8, 4, -3, -1, -6, 2]\n",
    "n = len(arr)\n",
    "\n",
    "zerosum(arr, n)"
   ]
  },
  {
   "cell_type": "code",
   "execution_count": null,
   "id": "alien-weekend",
   "metadata": {},
   "outputs": [],
   "source": [
    "O(N^2)"
   ]
  },
  {
   "cell_type": "code",
   "execution_count": 47,
   "id": "prepared-passage",
   "metadata": {},
   "outputs": [
    {
     "data": {
      "text/plain": [
       "True"
      ]
     },
     "execution_count": 47,
     "metadata": {},
     "output_type": "execute_result"
    }
   ],
   "source": [
    "class Solution:\n",
    "    def zerosum(arr, n):\n",
    "        \n",
    "        found = False\n",
    "        for i in range(n):\n",
    "            sum = 0\n",
    "            for j in range(i, n):\n",
    "                sum += arr[j]\n",
    "                if sum == 0:\n",
    "                    found = True\n",
    "                    break\n",
    "            if found == True:\n",
    "                break\n",
    "                \n",
    "        return found\n",
    "                    \n",
    "arr = [8, -4, -3, 1, 6, 9, 0]\n",
    "n = len(arr)\n",
    "\n",
    "Solution.zerosum(arr, n)"
   ]
  }
 ],
 "metadata": {
  "kernelspec": {
   "display_name": "Python 3",
   "language": "python",
   "name": "python3"
  },
  "language_info": {
   "codemirror_mode": {
    "name": "ipython",
    "version": 3
   },
   "file_extension": ".py",
   "mimetype": "text/x-python",
   "name": "python",
   "nbconvert_exporter": "python",
   "pygments_lexer": "ipython3",
   "version": "3.8.5"
  }
 },
 "nbformat": 4,
 "nbformat_minor": 5
}
