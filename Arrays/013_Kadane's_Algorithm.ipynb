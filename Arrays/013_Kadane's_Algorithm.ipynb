{
 "cells": [
  {
   "cell_type": "markdown",
   "id": "intensive-august",
   "metadata": {},
   "source": [
    "Kadane's Algo [V.V.V.V.V IMP]"
   ]
  },
  {
   "cell_type": "code",
   "execution_count": 2,
   "id": "popular-samoa",
   "metadata": {},
   "outputs": [
    {
     "name": "stdout",
     "output_type": "stream",
     "text": [
      "156\n"
     ]
    }
   ],
   "source": [
    "arr = [74, -72, 94, -53, -59, -3, -66, 36, -13, 22, 73, 15, -52, 75]\n",
    "\n",
    "n = len(arr)\n",
    "\n",
    "sum = 0\n",
    "lsum = 0\n",
    "\n",
    "for i in range(n):\n",
    "    sum = sum + arr[i]\n",
    "    \n",
    "    if sum > lsum:\n",
    "        lsum = sum\n",
    "        \n",
    "    if sum <0:\n",
    "        sum = 0\n",
    "        \n",
    "print(lsum)"
   ]
  },
  {
   "cell_type": "code",
   "execution_count": null,
   "id": "loaded-documentation",
   "metadata": {},
   "outputs": [],
   "source": []
  }
 ],
 "metadata": {
  "kernelspec": {
   "display_name": "Python 3",
   "language": "python",
   "name": "python3"
  },
  "language_info": {
   "codemirror_mode": {
    "name": "ipython",
    "version": 3
   },
   "file_extension": ".py",
   "mimetype": "text/x-python",
   "name": "python",
   "nbconvert_exporter": "python",
   "pygments_lexer": "ipython3",
   "version": "3.8.5"
  }
 },
 "nbformat": 4,
 "nbformat_minor": 5
}
