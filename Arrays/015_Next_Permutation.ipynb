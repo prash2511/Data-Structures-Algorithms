{
 "cells": [
  {
   "cell_type": "markdown",
   "id": "fossil-fantasy",
   "metadata": {},
   "source": [
    "Next Permutation"
   ]
  },
  {
   "cell_type": "code",
   "execution_count": 16,
   "id": "lasting-vitamin",
   "metadata": {},
   "outputs": [],
   "source": [
    "class Solution:\n",
    "    \n",
    "    def swap(self, nums, ind1, ind2):\n",
    "        temp = nums[ind1]\n",
    "        nums[ind1] = nums[ind2]\n",
    "        nums[ind2] = temp\n",
    "        \n",
    "        \n",
    "    def reverse(self, nums, beg, end):\n",
    "        while beg < end:\n",
    "            self.swap(nums, beg, end)\n",
    "            beg += 1\n",
    "            end -= 1\n",
    "        \n",
    "        \n",
    "    def nextPermutation(self, nums):\n",
    "        if len(nums) == 1:\n",
    "            return\n",
    "        \n",
    "        if len(nums) == 2:\n",
    "            return self.swap(nums, 0, 1)\n",
    "        \n",
    "        dec = len(nums) - 2\n",
    "        while dec >= 0 and nums[dec] >= nums[dec + 1]:\n",
    "            dec -= 1\n",
    "        self.reverse(nums, dec + 1, len(nums) - 1)\n",
    "        \n",
    "        if dec == -1:\n",
    "            return\n",
    "        \n",
    "        next_num = dec + 1\n",
    "        while next_num < len(nums) and nums[next_num] <= nums[dec]:\n",
    "            next_num += 1\n",
    "            \n",
    "        self.swap(nums, next_num, dec)\n"
   ]
  },
  {
   "cell_type": "code",
   "execution_count": null,
   "id": "accepting-orange",
   "metadata": {},
   "outputs": [],
   "source": []
  }
 ],
 "metadata": {
  "kernelspec": {
   "display_name": "Python 3",
   "language": "python",
   "name": "python3"
  },
  "language_info": {
   "codemirror_mode": {
    "name": "ipython",
    "version": 3
   },
   "file_extension": ".py",
   "mimetype": "text/x-python",
   "name": "python",
   "nbconvert_exporter": "python",
   "pygments_lexer": "ipython3",
   "version": "3.8.5"
  }
 },
 "nbformat": 4,
 "nbformat_minor": 5
}
