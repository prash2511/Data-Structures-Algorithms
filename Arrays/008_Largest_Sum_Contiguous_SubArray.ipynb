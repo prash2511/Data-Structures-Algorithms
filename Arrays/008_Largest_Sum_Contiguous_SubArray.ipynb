{
 "cells": [
  {
   "cell_type": "markdown",
   "id": "close-insert",
   "metadata": {},
   "source": [
    "find Largest sum contiguous Subarray [V. IMP]"
   ]
  },
  {
   "cell_type": "code",
   "execution_count": 4,
   "id": "extended-shareware",
   "metadata": {},
   "outputs": [
    {
     "name": "stdout",
     "output_type": "stream",
     "text": [
      "156\n"
     ]
    }
   ],
   "source": [
    "arr = [74, -72, 94, -53, -59, -3, -66, 36, -13, 22, 73, 15, -52, 75]\n",
    "\n",
    "n = len(arr)\n",
    "\n",
    "lsum = 0\n",
    "sum = 0\n",
    "\n",
    "for i in range(n):\n",
    "    sum = sum + arr[i]\n",
    "    \n",
    "    if sum > lsum:\n",
    "        lsum = sum\n",
    "    \n",
    "    if sum < 0:\n",
    "        sum = 0\n",
    "        \n",
    "print(lsum)"
   ]
  },
  {
   "cell_type": "code",
   "execution_count": 7,
   "id": "floral-christmas",
   "metadata": {},
   "outputs": [
    {
     "name": "stdout",
     "output_type": "stream",
     "text": [
      "-3\n"
     ]
    }
   ],
   "source": [
    "arr = [-5,-7,-3,-4]\n",
    "\n",
    "n = len(arr)\n",
    "\n",
    "a = []\n",
    "lsum = 0\n",
    "\n",
    "for i in range(n):\n",
    "    start = i\n",
    "    sum = 0\n",
    "    \n",
    "    for j in range(start, n):\n",
    "        a.append(arr[j])\n",
    "        alen = len(a)\n",
    "        \n",
    "    for k in range(alen):\n",
    "        sum = sum + a[k]\n",
    "    if sum > lsum:\n",
    "        lsum = sum\n",
    "        \n",
    "    a = []\n",
    "\n",
    "if lsum == 0:\n",
    "    arr.sort()\n",
    "    print(arr[n-1])\n",
    "else:\n",
    "    print(lsum)"
   ]
  },
  {
   "cell_type": "code",
   "execution_count": null,
   "id": "superb-nepal",
   "metadata": {},
   "outputs": [],
   "source": []
  }
 ],
 "metadata": {
  "kernelspec": {
   "display_name": "Python 3",
   "language": "python",
   "name": "python3"
  },
  "language_info": {
   "codemirror_mode": {
    "name": "ipython",
    "version": 3
   },
   "file_extension": ".py",
   "mimetype": "text/x-python",
   "name": "python",
   "nbconvert_exporter": "python",
   "pygments_lexer": "ipython3",
   "version": "3.8.5"
  }
 },
 "nbformat": 4,
 "nbformat_minor": 5
}
