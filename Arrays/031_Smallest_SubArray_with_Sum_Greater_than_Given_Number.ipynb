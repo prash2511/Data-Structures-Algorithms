{
 "cells": [
  {
   "cell_type": "markdown",
   "id": "unable-flesh",
   "metadata": {},
   "source": [
    "Smallest Subarray with sum greater than a given value"
   ]
  },
  {
   "cell_type": "markdown",
   "id": "measured-consumer",
   "metadata": {},
   "source": [
    "Time - O(N)\n",
    "Space - O(1)"
   ]
  },
  {
   "cell_type": "code",
   "execution_count": null,
   "id": "hungarian-learning",
   "metadata": {},
   "outputs": [],
   "source": [
    "class Solution:\n",
    "    def sb(arr, n, x):\n",
    "        \n",
    "        i = 0\n",
    "        j = 0\n",
    "        ans = n + 1\n",
    "        sum1 = 0\n",
    "        \n",
    "        while i < n and j < n+1:\n",
    "            if sum1 > x:\n",
    "                if i == j:\n",
    "                    return 1\n",
    "                \n",
    "                ans = min(ans, j - i)\n",
    "                sum1 -= arr[i]\n",
    "                i += 1\n",
    "            elif j == n:\n",
    "                break\n",
    "                \n",
    "            else:\n",
    "                sum1 += arr[j]\n",
    "                j += 1\n",
    "                \n",
    "        return ans\n",
    "    \n",
    "arr = [1, 3, 4, 7, 10, 10, 8, 10]\n",
    "n = len(arr)\n",
    "x = 10\n",
    "\n",
    "print(Solution.sb(arr, n, x))"
   ]
  },
  {
   "cell_type": "markdown",
   "id": "acting-musical",
   "metadata": {},
   "source": [
    "Time - O(N^2)\n",
    "Space - O(1)"
   ]
  },
  {
   "cell_type": "code",
   "execution_count": null,
   "id": "literary-laptop",
   "metadata": {},
   "outputs": [],
   "source": [
    "class Solution:\n",
    "    def sb(arr, n, x):\n",
    "        \n",
    "        min_len = n + 1\n",
    "        \n",
    "        for i in range(n):\n",
    "            sm = arr[i]\n",
    "            \n",
    "            if sm > x:\n",
    "                return 1\n",
    "            \n",
    "            for j in range(i+1, n):\n",
    "                sm += arr[j]\n",
    "                \n",
    "                if sm > x:\n",
    "                    min_len = min(min_len, j - i + 1)\n",
    "                    \n",
    "        return min_len\n",
    "\n",
    "\n",
    "arr = [1, 3, 4, 7, 10, 10, 8, 10]\n",
    "n = len(arr)\n",
    "x = 10\n",
    "\n",
    "print(Solution.sb(arr, n, x))"
   ]
  }
 ],
 "metadata": {
  "kernelspec": {
   "display_name": "Python 3",
   "language": "python",
   "name": "python3"
  },
  "language_info": {
   "codemirror_mode": {
    "name": "ipython",
    "version": 3
   },
   "file_extension": ".py",
   "mimetype": "text/x-python",
   "name": "python",
   "nbconvert_exporter": "python",
   "pygments_lexer": "ipython3",
   "version": "3.8.5"
  }
 },
 "nbformat": 4,
 "nbformat_minor": 5
}
