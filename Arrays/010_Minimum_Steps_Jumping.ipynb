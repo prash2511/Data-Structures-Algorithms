{
 "cells": [
  {
   "cell_type": "code",
   "execution_count": 19,
   "id": "reduced-bernard",
   "metadata": {},
   "outputs": [
    {
     "name": "stdout",
     "output_type": "stream",
     "text": [
      "3\n"
     ]
    }
   ],
   "source": [
    "class Solution:\n",
    "    def minJumps(arr, n):\n",
    "        \n",
    "        reachable = arr[0]\n",
    "        steps = arr[0]\n",
    "        jumps = 1\n",
    "        \n",
    "        if n == 1:\n",
    "            return 0\n",
    "        \n",
    "        elif arr[0] == 0:\n",
    "            return -1\n",
    "        \n",
    "        else:\n",
    "            for i in range(1, n):\n",
    "                \n",
    "                if i == n-1:\n",
    "                    return jumps\n",
    "                \n",
    "                reachable = max(reachable, i + arr[i])\n",
    "                steps -= 1\n",
    "                \n",
    "                if steps == 0:\n",
    "                    jumps += 1\n",
    "                    \n",
    "                    if i > reachable:\n",
    "                        return -1\n",
    "                \n",
    "                    steps = reachable - i\n",
    "                \n",
    "                \n",
    "    \n",
    "arr = [1, 3, 5, 8, 9, 2, 6, 7, 6, 8, 9]\n",
    "\n",
    "n = len(arr)\n",
    "\n",
    "ob = Solution()\n",
    "\n",
    "jumps = Solution.minJumps(arr, n)\n",
    "\n",
    "print(jumps)"
   ]
  },
  {
   "cell_type": "code",
   "execution_count": null,
   "id": "relevant-landscape",
   "metadata": {},
   "outputs": [],
   "source": []
  }
 ],
 "metadata": {
  "kernelspec": {
   "display_name": "Python 3",
   "language": "python",
   "name": "python3"
  },
  "language_info": {
   "codemirror_mode": {
    "name": "ipython",
    "version": 3
   },
   "file_extension": ".py",
   "mimetype": "text/x-python",
   "name": "python",
   "nbconvert_exporter": "python",
   "pygments_lexer": "ipython3",
   "version": "3.8.5"
  }
 },
 "nbformat": 4,
 "nbformat_minor": 5
}
