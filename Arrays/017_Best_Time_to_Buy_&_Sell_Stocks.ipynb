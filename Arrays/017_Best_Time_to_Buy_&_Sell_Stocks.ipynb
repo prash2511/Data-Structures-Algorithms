{
 "cells": [
  {
   "attachments": {},
   "cell_type": "markdown",
   "id": "another-decline",
   "metadata": {},
   "source": [
    "Best time to buy and Sell stock"
   ]
  },
  {
   "cell_type": "code",
   "execution_count": 17,
   "id": "polar-decimal",
   "metadata": {},
   "outputs": [
    {
     "name": "stdout",
     "output_type": "stream",
     "text": [
      "Maximun Profit:  8\n"
     ]
    }
   ],
   "source": [
    "class Solution:\n",
    "    def maxProfit(self, prices):\n",
    "        n = len(prices)\n",
    "        min = prices[0]\n",
    "        min_ind = 0\n",
    "        max_profit = 0\n",
    "        \n",
    "        for i in range(0, n):\n",
    "            if prices[i] < min:\n",
    "                min = prices[i]\n",
    "            elif prices[i] - min > max_profit:\n",
    "                max_profit = prices[i] - min\n",
    "                \n",
    "        return max_profit\n",
    "    \n",
    "    \n",
    "    \n",
    "    \n",
    "prices = [2, 1, 7, 3, 4, 9, 4, 5]\n",
    "\n",
    "ob = Solution()\n",
    "\n",
    "profit = ob.maxProfit(prices)\n",
    "\n",
    "print(\"Maximun Profit: \",profit)"
   ]
  },
  {
   "cell_type": "code",
   "execution_count": null,
   "id": "norman-house",
   "metadata": {},
   "outputs": [],
   "source": []
  }
 ],
 "metadata": {
  "kernelspec": {
   "display_name": "Python 3",
   "language": "python",
   "name": "python3"
  },
  "language_info": {
   "codemirror_mode": {
    "name": "ipython",
    "version": 3
   },
   "file_extension": ".py",
   "mimetype": "text/x-python",
   "name": "python",
   "nbconvert_exporter": "python",
   "pygments_lexer": "ipython3",
   "version": "3.8.5"
  }
 },
 "nbformat": 4,
 "nbformat_minor": 5
}
