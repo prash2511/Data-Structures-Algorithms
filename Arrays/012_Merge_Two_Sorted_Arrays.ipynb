{
 "cells": [
  {
   "cell_type": "markdown",
   "id": "nutritional-dispatch",
   "metadata": {},
   "source": [
    "Merge 2 sorted arrays without using Extra space."
   ]
  },
  {
   "cell_type": "code",
   "execution_count": null,
   "id": "minus-experience",
   "metadata": {},
   "outputs": [],
   "source": [
    "O(N)"
   ]
  },
  {
   "cell_type": "code",
   "execution_count": 21,
   "id": "latest-change",
   "metadata": {},
   "outputs": [
    {
     "name": "stdout",
     "output_type": "stream",
     "text": [
      "[0, 1, 2, 3]\n",
      "[5, 6, 7, 8, 9]\n"
     ]
    }
   ],
   "source": [
    "def merge(arr1, arr2, n, m):\n",
    "    \n",
    "    i = 0\n",
    "    j = 0\n",
    "    k = n - 1\n",
    "    \n",
    "    while(i <= k and j < m):\n",
    "        if arr1[i] < arr2[j]:\n",
    "            i += 1\n",
    "            \n",
    "        else:\n",
    "            arr2[j], arr1[k] = arr1[k], arr2[j]\n",
    "            j += 1\n",
    "            k -= 1\n",
    "    \n",
    "    arr1.sort()\n",
    "    arr2.sort()\n",
    "\n",
    "\n",
    "\n",
    "\n",
    "\n",
    "arr1 = [1, 3, 5, 7]\n",
    "arr2 = [0, 2, 6, 8, 9]\n",
    "\n",
    "m = len(arr1)\n",
    "n = len(arr2)\n",
    "\n",
    "merge(arr1, arr2, m, n)\n",
    "\n",
    "print(arr1)\n",
    "print(arr2)"
   ]
  },
  {
   "cell_type": "markdown",
   "id": "directed-filling",
   "metadata": {},
   "source": [
    "O(N^2)"
   ]
  },
  {
   "cell_type": "code",
   "execution_count": 7,
   "id": "isolated-museum",
   "metadata": {},
   "outputs": [
    {
     "name": "stdout",
     "output_type": "stream",
     "text": [
      "[0, 1, 2, 3]\n",
      "[5, 6, 7, 8, 9]\n"
     ]
    }
   ],
   "source": [
    "def merge(arr1, arr2, m, n):\n",
    "    \n",
    "    for i in range(n - 1, -1, -1):\n",
    "        \n",
    "        last = arr1[m - 1]\n",
    "        j = m - 2\n",
    "        \n",
    "        while(j >= 0 and arr1[j] > arr2[i]):\n",
    "            arr1[j + 1] = arr1[j]\n",
    "            j -= 1\n",
    "            \n",
    "        if(j != m - 2 or last > arr2[i]):\n",
    "            arr1[j + 1] = arr2[i]\n",
    "            arr2[i] = last\n",
    "            \n",
    "            \n",
    "\n",
    "\n",
    "arr1 = [1, 3, 5, 7]\n",
    "arr2 = [0, 2, 6, 8, 9]\n",
    "\n",
    "m = len(arr1)\n",
    "n = len(arr2)\n",
    "\n",
    "merge(arr1, arr2, m, n)\n",
    "\n",
    "print(arr1)\n",
    "print(arr2)"
   ]
  }
 ],
 "metadata": {
  "kernelspec": {
   "display_name": "Python 3",
   "language": "python",
   "name": "python3"
  },
  "language_info": {
   "codemirror_mode": {
    "name": "ipython",
    "version": 3
   },
   "file_extension": ".py",
   "mimetype": "text/x-python",
   "name": "python",
   "nbconvert_exporter": "python",
   "pygments_lexer": "ipython3",
   "version": "3.8.5"
  }
 },
 "nbformat": 4,
 "nbformat_minor": 5
}
