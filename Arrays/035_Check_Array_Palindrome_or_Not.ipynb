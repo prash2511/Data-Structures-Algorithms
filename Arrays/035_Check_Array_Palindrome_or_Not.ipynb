{
 "cells": [
  {
   "cell_type": "markdown",
   "id": "radio-exemption",
   "metadata": {},
   "source": [
    "Check if Array contains all palindrome numbers or not"
   ]
  },
  {
   "cell_type": "markdown",
   "id": "lucky-relations",
   "metadata": {},
   "source": [
    "Time - O(N)\n",
    "Space - O(1)"
   ]
  },
  {
   "cell_type": "code",
   "execution_count": 1,
   "id": "available-amino",
   "metadata": {},
   "outputs": [
    {
     "name": "stdout",
     "output_type": "stream",
     "text": [
      "1\n"
     ]
    }
   ],
   "source": [
    "def PalinArray(arr, n):\n",
    "    \n",
    "    for i in range(n):\n",
    "        temp = arr[i]\n",
    "        ans = 0\n",
    "        \n",
    "        while(temp > 0):\n",
    "            rem = temp % 10\n",
    "            temp //= 10\n",
    "            ans = (ans * 10) + rem\n",
    "        \n",
    "        if ans != arr[i]:\n",
    "            return 0\n",
    "        \n",
    "    return 1\n",
    "\n",
    "\n",
    "arr = [111, 222, 333, 444, 555]\n",
    "n = len(arr)\n",
    "\n",
    "print(PalinArray(arr, n))"
   ]
  }
 ],
 "metadata": {
  "kernelspec": {
   "display_name": "Python 3",
   "language": "python",
   "name": "python3"
  },
  "language_info": {
   "codemirror_mode": {
    "name": "ipython",
    "version": 3
   },
   "file_extension": ".py",
   "mimetype": "text/x-python",
   "name": "python",
   "nbconvert_exporter": "python",
   "pygments_lexer": "ipython3",
   "version": "3.8.5"
  }
 },
 "nbformat": 4,
 "nbformat_minor": 5
}
