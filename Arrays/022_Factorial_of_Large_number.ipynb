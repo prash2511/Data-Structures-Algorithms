{
 "cells": [
  {
   "cell_type": "markdown",
   "id": "complex-emerald",
   "metadata": {},
   "source": [
    "Find factorial of a large number"
   ]
  },
  {
   "cell_type": "code",
   "execution_count": null,
   "id": "stuck-maintenance",
   "metadata": {},
   "outputs": [],
   "source": [
    "O(N)"
   ]
  },
  {
   "cell_type": "code",
   "execution_count": 3,
   "id": "weighted-filter",
   "metadata": {},
   "outputs": [
    {
     "name": "stdout",
     "output_type": "stream",
     "text": [
      "5\n",
      "120"
     ]
    }
   ],
   "source": [
    "class Solution:\n",
    "    def factorial(N):\n",
    "        \n",
    "        fact = 1\n",
    "        for i in range(1, N + 1):\n",
    "            fact *= i\n",
    "            \n",
    "        return str(fact)\n",
    "    \n",
    "    \n",
    "    \n",
    "N = int(input())\n",
    "\n",
    "ans = Solution.factorial(N)\n",
    "\n",
    "for i in ans:\n",
    "    print(i, end = \"\")"
   ]
  }
 ],
 "metadata": {
  "kernelspec": {
   "display_name": "Python 3",
   "language": "python",
   "name": "python3"
  },
  "language_info": {
   "codemirror_mode": {
    "name": "ipython",
    "version": 3
   },
   "file_extension": ".py",
   "mimetype": "text/x-python",
   "name": "python",
   "nbconvert_exporter": "python",
   "pygments_lexer": "ipython3",
   "version": "3.8.5"
  }
 },
 "nbformat": 4,
 "nbformat_minor": 5
}
