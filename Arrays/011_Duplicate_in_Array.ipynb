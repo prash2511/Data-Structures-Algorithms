{
 "cells": [
  {
   "cell_type": "markdown",
   "id": "strange-irish",
   "metadata": {},
   "source": [
    "find duplicate in an array of N+1 Integers"
   ]
  },
  {
   "cell_type": "code",
   "execution_count": null,
   "id": "unusual-diploma",
   "metadata": {},
   "outputs": [],
   "source": [
    "O(N)"
   ]
  },
  {
   "cell_type": "code",
   "execution_count": 8,
   "id": "american-indianapolis",
   "metadata": {},
   "outputs": [
    {
     "name": "stdout",
     "output_type": "stream",
     "text": [
      "4\n"
     ]
    }
   ],
   "source": [
    "class Solution:\n",
    "    def findDuplicate(self, nums):\n",
    "        seen = set()\n",
    "        for i in nums:\n",
    "            if i in seen:\n",
    "                return i\n",
    "            seen.add(i)\n",
    "\n",
    "            \n",
    "            \n",
    "nums = [1, 4, 3, 7, 2, 8, 9, 4]\n",
    "\n",
    "ob = Solution()\n",
    "\n",
    "duplicate = ob.findDuplicate(nums)\n",
    "\n",
    "print(duplicate)"
   ]
  },
  {
   "cell_type": "code",
   "execution_count": null,
   "id": "compatible-armor",
   "metadata": {},
   "outputs": [],
   "source": [
    "O(N^2)"
   ]
  },
  {
   "cell_type": "code",
   "execution_count": 9,
   "id": "employed-demand",
   "metadata": {},
   "outputs": [
    {
     "name": "stdout",
     "output_type": "stream",
     "text": [
      "4\n"
     ]
    }
   ],
   "source": [
    "arr = [1, 4, 3, 7, 2, 8, 9, 4]\n",
    "n = len(arr)\n",
    "size = n\n",
    "\n",
    "for i in range(0,size):\n",
    "    for j in range(i + 1, size):\n",
    "        if arr[i] == arr[j]:\n",
    "            num = arr[i]\n",
    "            break\n",
    "        else:\n",
    "            continue\n",
    "            \n",
    "            \n",
    "print(num)"
   ]
  }
 ],
 "metadata": {
  "kernelspec": {
   "display_name": "Python 3",
   "language": "python",
   "name": "python3"
  },
  "language_info": {
   "codemirror_mode": {
    "name": "ipython",
    "version": 3
   },
   "file_extension": ".py",
   "mimetype": "text/x-python",
   "name": "python",
   "nbconvert_exporter": "python",
   "pygments_lexer": "ipython3",
   "version": "3.8.5"
  }
 },
 "nbformat": 4,
 "nbformat_minor": 5
}
