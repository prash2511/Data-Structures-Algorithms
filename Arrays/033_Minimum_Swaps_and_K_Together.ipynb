{
 "cells": [
  {
   "cell_type": "markdown",
   "id": "subject-practitioner",
   "metadata": {},
   "source": [
    "Minimum swaps required bring elements less equal K together"
   ]
  },
  {
   "cell_type": "markdown",
   "id": "historic-porcelain",
   "metadata": {},
   "source": [
    "Time - O(N)\n",
    "Space - O(1)"
   ]
  },
  {
   "cell_type": "code",
   "execution_count": 6,
   "id": "welcome-receiver",
   "metadata": {},
   "outputs": [
    {
     "name": "stdout",
     "output_type": "stream",
     "text": [
      "1\n"
     ]
    }
   ],
   "source": [
    "def minSwap(arr, n, k):\n",
    "    \n",
    "    mi = n - 1\n",
    "    good = 0\n",
    "    bad = 0\n",
    "    \n",
    "    for i in range(n):\n",
    "        if arr[i] <= k:\n",
    "            good += 1\n",
    "            \n",
    "    for i in range(good):\n",
    "        if arr[i] > k:\n",
    "            bad += 1\n",
    "            \n",
    "    i = 0\n",
    "    j = good - 1\n",
    "    \n",
    "    while(j < n):\n",
    "        mi = min(mi, bad)\n",
    "        j += 1\n",
    "        \n",
    "        if j < n and arr[j] > k:\n",
    "            bad += 1\n",
    "        if j < n and arr[i] > k:\n",
    "            bad -= 1\n",
    "            \n",
    "        i += 1\n",
    "    \n",
    "    if mi == n - 1:\n",
    "        return 0\n",
    "    else:\n",
    "        return mi\n",
    "    \n",
    "    \n",
    "\n",
    "arr = [2, 1, 5, 6, 3]\n",
    "n = len(arr)\n",
    "k = 3\n",
    "\n",
    "print(minSwap(arr, n, k))"
   ]
  },
  {
   "cell_type": "code",
   "execution_count": null,
   "id": "working-mobility",
   "metadata": {},
   "outputs": [],
   "source": []
  }
 ],
 "metadata": {
  "kernelspec": {
   "display_name": "Python 3",
   "language": "python",
   "name": "python3"
  },
  "language_info": {
   "codemirror_mode": {
    "name": "ipython",
    "version": 3
   },
   "file_extension": ".py",
   "mimetype": "text/x-python",
   "name": "python",
   "nbconvert_exporter": "python",
   "pygments_lexer": "ipython3",
   "version": "3.8.5"
  }
 },
 "nbformat": 4,
 "nbformat_minor": 5
}
