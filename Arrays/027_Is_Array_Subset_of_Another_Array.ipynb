{
 "cells": [
  {
   "cell_type": "markdown",
   "id": "speaking-honolulu",
   "metadata": {},
   "source": [
    "Time - O(m)\n",
    "Space - O(1)"
   ]
  },
  {
   "cell_type": "code",
   "execution_count": 10,
   "id": "committed-circuit",
   "metadata": {},
   "outputs": [
    {
     "name": "stdout",
     "output_type": "stream",
     "text": [
      "Yes\n"
     ]
    }
   ],
   "source": [
    "def subArray(arr1, n, arr2, m):\n",
    "    \n",
    "    yes = 0\n",
    "    \n",
    "    for i in range(m):\n",
    "        if arr2[i] in arr1:\n",
    "            yes += 1\n",
    "            \n",
    "    if yes == m:\n",
    "        return \"Yes\"\n",
    "    else:\n",
    "        return \"No\"\n",
    "        \n",
    "                \n",
    "arr1 = [2, 5, 3, 7, 4, 9, 1]\n",
    "n = len(arr1)\n",
    "\n",
    "arr2 = [5, 1, 4, 2]\n",
    "m = len(arr2)\n",
    "\n",
    "print(subArray(arr1, n, arr2, m))"
   ]
  }
 ],
 "metadata": {
  "kernelspec": {
   "display_name": "Python 3",
   "language": "python",
   "name": "python3"
  },
  "language_info": {
   "codemirror_mode": {
    "name": "ipython",
    "version": 3
   },
   "file_extension": ".py",
   "mimetype": "text/x-python",
   "name": "python",
   "nbconvert_exporter": "python",
   "pygments_lexer": "ipython3",
   "version": "3.8.5"
  }
 },
 "nbformat": 4,
 "nbformat_minor": 5
}
