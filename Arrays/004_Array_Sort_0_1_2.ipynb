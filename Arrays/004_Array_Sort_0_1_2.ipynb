{
 "cells": [
  {
   "cell_type": "markdown",
   "id": "increasing-timothy",
   "metadata": {},
   "source": [
    "Given an array which consists of only 0, 1 and 2. Sort the array without using any sorting"
   ]
  },
  {
   "cell_type": "code",
   "execution_count": 1,
   "id": "hazardous-details",
   "metadata": {},
   "outputs": [
    {
     "name": "stdout",
     "output_type": "stream",
     "text": [
      "[0, 0, 0, 0, 1, 1, 1, 1, 2, 2, 2]\n"
     ]
    }
   ],
   "source": [
    "arr = [1, 0, 2, 1, 1, 0, 2, 0, 0, 2, 1]\n",
    "\n",
    "n = len(arr)\n",
    "\n",
    "for i in range(n):\n",
    "    min = arr[i]\n",
    "    \n",
    "    for j in range(i+1, n):\n",
    "        if arr[j] <= min:\n",
    "            min = arr[j]\n",
    "            arr[i], arr[j] = arr[j], arr[i]\n",
    "            \n",
    "print(arr)"
   ]
  },
  {
   "cell_type": "code",
   "execution_count": null,
   "id": "featured-theater",
   "metadata": {},
   "outputs": [],
   "source": []
  }
 ],
 "metadata": {
  "kernelspec": {
   "display_name": "Python 3",
   "language": "python",
   "name": "python3"
  },
  "language_info": {
   "codemirror_mode": {
    "name": "ipython",
    "version": 3
   },
   "file_extension": ".py",
   "mimetype": "text/x-python",
   "name": "python",
   "nbconvert_exporter": "python",
   "pygments_lexer": "ipython3",
   "version": "3.8.5"
  }
 },
 "nbformat": 4,
 "nbformat_minor": 5
}
