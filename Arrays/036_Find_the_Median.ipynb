{
 "cells": [
  {
   "cell_type": "markdown",
   "id": "alleged-comedy",
   "metadata": {},
   "source": [
    "Find the Median"
   ]
  },
  {
   "cell_type": "markdown",
   "id": "consistent-stranger",
   "metadata": {},
   "source": [
    "Time - O(NlogN)\n",
    "Space - O(1)"
   ]
  },
  {
   "cell_type": "code",
   "execution_count": 5,
   "id": "afraid-biology",
   "metadata": {},
   "outputs": [
    {
     "name": "stdout",
     "output_type": "stream",
     "text": [
      "61\n"
     ]
    }
   ],
   "source": [
    "class Solution:\n",
    "    def find_median(arr):\n",
    "        \n",
    "        n = len(arr)\n",
    "        arr.sort()\n",
    "        \n",
    "        if n % 2 == 1:\n",
    "            median = arr[n//2]\n",
    "        elif n % 2 == 0:\n",
    "            median = (arr[n//2] + arr[n//2 - 1]) // 2\n",
    "            \n",
    "        return median\n",
    "\n",
    "\n",
    "#arr = [90, 100, 78, 89, 67]\n",
    "arr = [56, 67, 30, 79]\n",
    "\n",
    "print(Solution.find_median(arr))"
   ]
  }
 ],
 "metadata": {
  "kernelspec": {
   "display_name": "Python 3",
   "language": "python",
   "name": "python3"
  },
  "language_info": {
   "codemirror_mode": {
    "name": "ipython",
    "version": 3
   },
   "file_extension": ".py",
   "mimetype": "text/x-python",
   "name": "python",
   "nbconvert_exporter": "python",
   "pygments_lexer": "ipython3",
   "version": "3.8.5"
  }
 },
 "nbformat": 4,
 "nbformat_minor": 5
}
