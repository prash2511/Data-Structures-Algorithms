{
 "cells": [
  {
   "cell_type": "markdown",
   "id": "deluxe-seven",
   "metadata": {},
   "source": [
    "find common elements In 3 sorted arrays"
   ]
  },
  {
   "cell_type": "code",
   "execution_count": 32,
   "id": "ranking-notification",
   "metadata": {},
   "outputs": [
    {
     "data": {
      "text/plain": [
       "[20, 80]"
      ]
     },
     "execution_count": 32,
     "metadata": {},
     "output_type": "execute_result"
    }
   ],
   "source": [
    "class Solution:\n",
    "    def commonElements(self, A, B, C, n1, n2, n3):\n",
    "        res = []\n",
    "        i = 0\n",
    "        j = 0\n",
    "        k = 0\n",
    "        \n",
    "        while(i < n1 and j < n2 and k < n3):\n",
    "            \n",
    "            if(A[i] == B[j] and B[j] == C[k]):\n",
    "                res.append(A[i])\n",
    "                i += 1\n",
    "                j += 1\n",
    "                k += 1\n",
    "                \n",
    "            elif(A[i] < B[j]):\n",
    "                i += 1\n",
    "                \n",
    "            elif(B[j] < C[k]):\n",
    "                j += 1\n",
    "                \n",
    "            else:\n",
    "                k += 1\n",
    "        \n",
    "        resso = set(res)\n",
    "        \n",
    "        res = list(resso)\n",
    "        res.sort()\n",
    "        \n",
    "        return res\n",
    "    \n",
    "    \n",
    "A = [1, 5, 10, 20, 40, 80]\n",
    "B = [6, 7, 20, 80, 100]\n",
    "C = [3, 4, 15, 20, 30, 70, 80, 120]\n",
    "n1 = len(A)\n",
    "n2 = len(B)\n",
    "n3 = len(C)\n",
    "\n",
    "ob = Solution()\n",
    "\n",
    "ob.commonElements(A, B, C, n1, n2, n3)"
   ]
  },
  {
   "cell_type": "code",
   "execution_count": 33,
   "id": "international-relay",
   "metadata": {},
   "outputs": [
    {
     "data": {
      "text/plain": [
       "[3]"
      ]
     },
     "execution_count": 33,
     "metadata": {},
     "output_type": "execute_result"
    }
   ],
   "source": [
    "class Solution:\n",
    "    def commonElements(self, A, B, C, n1, n2, n3):\n",
    "        res = []\n",
    "        i = 0\n",
    "        j = 0\n",
    "        k = 0\n",
    "        \n",
    "        while(i < n1 and j < n2 and k < n3):\n",
    "            \n",
    "            if(A[i] == B[j] and B[j] == C[k]):\n",
    "                res.append(A[i])\n",
    "                i += 1\n",
    "                j += 1\n",
    "                k += 1\n",
    "                \n",
    "            elif(A[i] < B[j]):\n",
    "                i += 1\n",
    "                \n",
    "            elif(B[j] < C[k]):\n",
    "                j += 1\n",
    "                \n",
    "            else:\n",
    "                k += 1\n",
    "        \n",
    "        resso = set(res)\n",
    "        \n",
    "        res = list(resso)\n",
    "        res.sort()\n",
    "        \n",
    "        return res\n",
    "    \n",
    "    \n",
    "A = [3, 3, 3]\n",
    "B = [3, 3, 3]\n",
    "C = [3, 3, 3]\n",
    "n1 = len(A)\n",
    "n2 = len(B)\n",
    "n3 = len(C)\n",
    "\n",
    "ob = Solution()\n",
    "\n",
    "ob.commonElements(A, B, C, n1, n2, n3)"
   ]
  },
  {
   "cell_type": "code",
   "execution_count": null,
   "id": "fixed-facial",
   "metadata": {},
   "outputs": [],
   "source": []
  }
 ],
 "metadata": {
  "kernelspec": {
   "display_name": "Python 3",
   "language": "python",
   "name": "python3"
  },
  "language_info": {
   "codemirror_mode": {
    "name": "ipython",
    "version": 3
   },
   "file_extension": ".py",
   "mimetype": "text/x-python",
   "name": "python",
   "nbconvert_exporter": "python",
   "pygments_lexer": "ipython3",
   "version": "3.8.5"
  }
 },
 "nbformat": 4,
 "nbformat_minor": 5
}
