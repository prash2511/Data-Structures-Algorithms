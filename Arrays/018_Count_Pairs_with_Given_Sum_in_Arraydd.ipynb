{
 "cells": [
  {
   "cell_type": "markdown",
   "id": "military-theater",
   "metadata": {},
   "source": [
    "find all pairs on integer array whose sum is equal to given number"
   ]
  },
  {
   "cell_type": "code",
   "execution_count": 7,
   "id": "present-watershed",
   "metadata": {},
   "outputs": [
    {
     "name": "stdout",
     "output_type": "stream",
     "text": [
      "6\n",
      "2\n"
     ]
    }
   ],
   "source": [
    "class Solution:\n",
    "    def getPairsCount(arr, n, k):\n",
    "        m = [0] * 10000000\n",
    "        \n",
    "        for i in range(n):\n",
    "            m[arr[i]] += 1\n",
    "            \n",
    "        twice_count = 0\n",
    "        \n",
    "        for i in range(n):\n",
    "            twice_count += m[k - arr[i]]\n",
    "            \n",
    "            if(k - arr[i] == arr[i]):\n",
    "                twice_count -= 1\n",
    "                \n",
    "        return (twice_count//2)\n",
    "    \n",
    "    \n",
    "arr = [1, 5, 7, 1]\n",
    "\n",
    "n = len(arr)\n",
    "\n",
    "k = int(input())\n",
    "\n",
    "ob = Solution()\n",
    "\n",
    "result = Solution.getPairsCount(arr, n, k)\n",
    "\n",
    "print(result)"
   ]
  },
  {
   "cell_type": "code",
   "execution_count": 1,
   "id": "southeast-technical",
   "metadata": {},
   "outputs": [
    {
     "name": "stdout",
     "output_type": "stream",
     "text": [
      "6\n",
      "2\n"
     ]
    }
   ],
   "source": [
    "class Solution:\n",
    "    def getPairsCount(arr, n, k):\n",
    "        count = 0\n",
    "        i = 0\n",
    "        j = n - 1\n",
    "        \n",
    "        while(i < n and j >= 0):\n",
    "            \n",
    "            if i != j:\n",
    "                if (arr[i] + arr[j]) == k:\n",
    "                    count += 1\n",
    "                j -= 1\n",
    "            else:\n",
    "                j = n - 1\n",
    "                i += 1\n",
    "            \n",
    "        return count\n",
    "    \n",
    "    \n",
    "arr = [1, 5, 7, 1]\n",
    "\n",
    "n = len(arr)\n",
    "\n",
    "k = int(input())\n",
    "\n",
    "ob = Solution()\n",
    "\n",
    "result = Solution.getPairsCount(arr, n, k)\n",
    "\n",
    "print(result)"
   ]
  },
  {
   "cell_type": "code",
   "execution_count": null,
   "id": "focused-trouble",
   "metadata": {},
   "outputs": [],
   "source": []
  }
 ],
 "metadata": {
  "kernelspec": {
   "display_name": "Python 3",
   "language": "python",
   "name": "python3"
  },
  "language_info": {
   "codemirror_mode": {
    "name": "ipython",
    "version": 3
   },
   "file_extension": ".py",
   "mimetype": "text/x-python",
   "name": "python",
   "nbconvert_exporter": "python",
   "pygments_lexer": "ipython3",
   "version": "3.8.5"
  }
 },
 "nbformat": 4,
 "nbformat_minor": 5
}
