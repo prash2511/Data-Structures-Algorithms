{
 "cells": [
  {
   "cell_type": "markdown",
   "id": "declared-crowd",
   "metadata": {},
   "source": [
    "Three way partitioning of an array around a given value"
   ]
  },
  {
   "cell_type": "markdown",
   "id": "acquired-feelings",
   "metadata": {},
   "source": [
    "Time - O(N)\n",
    "Space - O(1)"
   ]
  },
  {
   "cell_type": "code",
   "execution_count": 30,
   "id": "dressed-basket",
   "metadata": {},
   "outputs": [
    {
     "name": "stdout",
     "output_type": "stream",
     "text": [
      "[1, 3, 9, 6, 4, 5]\n"
     ]
    }
   ],
   "source": [
    "class Solution:\n",
    "    def threeWayPartition(arr, a, b):\n",
    "        \n",
    "        n = len(arr)\n",
    "        \n",
    "        i = 0\n",
    "        start = 0\n",
    "        end = n-1\n",
    "        \n",
    "        while(i <= end):\n",
    "            if arr[i] < a:\n",
    "                arr[i], arr[start] = arr[start], arr[i]\n",
    "                i += 1\n",
    "                start += 1\n",
    "                \n",
    "            elif arr[i] > b:\n",
    "                arr[i], arr[end] = arr[end], arr[i]\n",
    "                end -= 1\n",
    "                \n",
    "            else:\n",
    "                i += 1\n",
    "        \n",
    "        return arr\n",
    "        \n",
    "\n",
    "arr = [1, 5, 9, 3, 6, 4]\n",
    "\n",
    "a = 1\n",
    "b = 3\n",
    "\n",
    "print(Solution.threeWayPartition(arr, a, b))"
   ]
  },
  {
   "cell_type": "code",
   "execution_count": null,
   "id": "affecting-myanmar",
   "metadata": {},
   "outputs": [],
   "source": []
  }
 ],
 "metadata": {
  "kernelspec": {
   "display_name": "Python 3",
   "language": "python",
   "name": "python3"
  },
  "language_info": {
   "codemirror_mode": {
    "name": "ipython",
    "version": 3
   },
   "file_extension": ".py",
   "mimetype": "text/x-python",
   "name": "python",
   "nbconvert_exporter": "python",
   "pygments_lexer": "ipython3",
   "version": "3.8.5"
  }
 },
 "nbformat": 4,
 "nbformat_minor": 5
}
