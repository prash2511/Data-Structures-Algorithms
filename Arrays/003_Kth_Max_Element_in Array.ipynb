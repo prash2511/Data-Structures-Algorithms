{
 "cells": [
  {
   "cell_type": "markdown",
   "id": "minimal-worthy",
   "metadata": {},
   "source": [
    "Find the \"Kth\" max and min element of an array"
   ]
  },
  {
   "cell_type": "code",
   "execution_count": 12,
   "id": "cardiac-football",
   "metadata": {},
   "outputs": [
    {
     "name": "stdout",
     "output_type": "stream",
     "text": [
      "K: 2\n",
      "Kth maximun element is:  7\n"
     ]
    }
   ],
   "source": [
    "arr = [1, 4, 7, 9, 3, 6]\n",
    "\n",
    "k = int(input(\"K: \"))\n",
    "n = len(arr)\n",
    "\n",
    "for i in range(n):\n",
    "    max = arr[i]\n",
    "\n",
    "    for j in range(i + 1, n):\n",
    "        if arr[j] > max:\n",
    "            max = arr[j]\n",
    "            arr[j], arr[i] = arr[i], arr[j]\n",
    "\n",
    "        \n",
    "print(\"Kth maximun element is: \",arr[k-1])"
   ]
  },
  {
   "cell_type": "code",
   "execution_count": null,
   "id": "african-oxford",
   "metadata": {},
   "outputs": [],
   "source": []
  }
 ],
 "metadata": {
  "kernelspec": {
   "display_name": "Python 3",
   "language": "python",
   "name": "python3"
  },
  "language_info": {
   "codemirror_mode": {
    "name": "ipython",
    "version": 3
   },
   "file_extension": ".py",
   "mimetype": "text/x-python",
   "name": "python",
   "nbconvert_exporter": "python",
   "pygments_lexer": "ipython3",
   "version": "3.8.5"
  }
 },
 "nbformat": 4,
 "nbformat_minor": 5
}
