{
 "cells": [
  {
   "cell_type": "markdown",
   "id": "military-forestry",
   "metadata": {},
   "source": [
    "Reverse the array and string"
   ]
  },
  {
   "cell_type": "code",
   "execution_count": 2,
   "id": "identical-directive",
   "metadata": {},
   "outputs": [
    {
     "name": "stdout",
     "output_type": "stream",
     "text": [
      "72 18 05 66 96\n",
      "[96, 66, 5, 18, 72]\n"
     ]
    }
   ],
   "source": [
    "\n",
    "arr = [int(i) for i in input().split()]\n",
    "\n",
    "n = len(arr) - 1\n",
    "i = 0\n",
    "\n",
    "while(i < n):\n",
    "    arr[i], arr[n] = arr[n], arr[i]\n",
    "    i += 1\n",
    "    n -= 1\n",
    "    \n",
    "print(arr)"
   ]
  },
  {
   "cell_type": "code",
   "execution_count": 2,
   "id": "affected-lingerie",
   "metadata": {},
   "outputs": [
    {
     "name": "stdout",
     "output_type": "stream",
     "text": [
      "tnahsarP\n"
     ]
    }
   ],
   "source": [
    "def reverse(s):\n",
    "    str = \"\"\n",
    "    for i in s:\n",
    "        str = i + str\n",
    "    return str\n",
    "\n",
    "\n",
    "s = \"Prashant\"\n",
    "ans = reverse(s)\n",
    "print(ans)"
   ]
  },
  {
   "cell_type": "code",
   "execution_count": null,
   "id": "august-award",
   "metadata": {},
   "outputs": [],
   "source": []
  }
 ],
 "metadata": {
  "kernelspec": {
   "display_name": "Python 3",
   "language": "python",
   "name": "python3"
  },
  "language_info": {
   "codemirror_mode": {
    "name": "ipython",
    "version": 3
   },
   "file_extension": ".py",
   "mimetype": "text/x-python",
   "name": "python",
   "nbconvert_exporter": "python",
   "pygments_lexer": "ipython3",
   "version": "3.8.5"
  }
 },
 "nbformat": 4,
 "nbformat_minor": 5
}
