{
 "cells": [
  {
   "cell_type": "markdown",
   "id": "unavailable-philippines",
   "metadata": {},
   "source": [
    "Given an array of size n and a number k, find all elements that appear more than \" n/k \" times."
   ]
  },
  {
   "cell_type": "code",
   "execution_count": null,
   "id": "nominated-adapter",
   "metadata": {
    "scrolled": true
   },
   "outputs": [],
   "source": [
    "O(NlogN)"
   ]
  },
  {
   "cell_type": "code",
   "execution_count": 35,
   "id": "changing-expert",
   "metadata": {},
   "outputs": [
    {
     "name": "stdout",
     "output_type": "stream",
     "text": [
      "1\n"
     ]
    }
   ],
   "source": [
    "class Solution:\n",
    "    def countOccurence(arr,n,k):\n",
    "        ans = 0\n",
    "        arr.sort()\n",
    "        count = 0\n",
    "        s = set()\n",
    "    \n",
    "        for i in range(n):\n",
    "            if arr[i] == arr[i - 1] and arr[i] not in s:\n",
    "                count += 1\n",
    "            \n",
    "            else:\n",
    "                count = 1\n",
    "            \n",
    "            if count > n//k:\n",
    "                s.add(arr[i])\n",
    "                ans += 1\n",
    "            \n",
    "        return ans\n",
    "    \n",
    "    \n",
    "arr = [2, 4, 3, 5, 2, 3, 4, 3, 2, 3, 5]\n",
    "k = 3\n",
    "n = len(arr)\n",
    "print(Solution.countOccurence(arr, n, k))"
   ]
  },
  {
   "cell_type": "code",
   "execution_count": null,
   "id": "requested-bristol",
   "metadata": {},
   "outputs": [],
   "source": [
    "O(N^2)"
   ]
  },
  {
   "cell_type": "code",
   "execution_count": 36,
   "id": "metric-thompson",
   "metadata": {},
   "outputs": [
    {
     "name": "stdout",
     "output_type": "stream",
     "text": [
      "1\n"
     ]
    }
   ],
   "source": [
    "def repeatednums(arr, n, k):\n",
    "    ans = 0\n",
    "    a = []\n",
    "    \n",
    "    for i in range(n):\n",
    "        element = arr[i]\n",
    "        count = 1\n",
    "        \n",
    "        for j in range(i + 1, n):\n",
    "            if arr[j] == element:\n",
    "                count += 1\n",
    "                \n",
    "        if count > k:\n",
    "            a.append(element)\n",
    "            count = 0\n",
    "             \n",
    "    return len(set(a))\n",
    "\n",
    "\n",
    "arr = [2, 4, 3, 5, 2, 3, 4, 3, 2, 3]\n",
    "k = 3\n",
    "n = len(arr)\n",
    "print(repeatednums(arr, n, k))"
   ]
  },
  {
   "cell_type": "code",
   "execution_count": null,
   "id": "prescription-satin",
   "metadata": {},
   "outputs": [],
   "source": []
  }
 ],
 "metadata": {
  "kernelspec": {
   "display_name": "Python 3",
   "language": "python",
   "name": "python3"
  },
  "language_info": {
   "codemirror_mode": {
    "name": "ipython",
    "version": 3
   },
   "file_extension": ".py",
   "mimetype": "text/x-python",
   "name": "python",
   "nbconvert_exporter": "python",
   "pygments_lexer": "ipython3",
   "version": "3.8.5"
  }
 },
 "nbformat": 4,
 "nbformat_minor": 5
}
