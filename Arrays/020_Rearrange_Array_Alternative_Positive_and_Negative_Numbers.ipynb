{
 "cells": [
  {
   "cell_type": "markdown",
   "id": "preliminary-jenny",
   "metadata": {},
   "source": [
    "Rearrange the array in alternating positive and negative items with O(1) extra space"
   ]
  },
  {
   "cell_type": "markdown",
   "id": "reasonable-valuation",
   "metadata": {},
   "source": [
    "Without Extra Space O(1)"
   ]
  },
  {
   "cell_type": "code",
   "execution_count": 42,
   "id": "reserved-karma",
   "metadata": {},
   "outputs": [
    {
     "name": "stdout",
     "output_type": "stream",
     "text": [
      "[-2, 9, -1, 4, -5, 5, -3, 0, 2]\n"
     ]
    }
   ],
   "source": [
    "#Array should start with Negative elementS\n",
    "\n",
    "\n",
    "def rotateRight(arr, current, wrongIndex):\n",
    "    temp = current\n",
    "    \n",
    "    for i in range(current, wrongIndex, -1):\n",
    "        arr[i] = arr[i - 1]\n",
    "        \n",
    "    arr[wrongIndex] = temp\n",
    "    \n",
    "    return arr\n",
    "\n",
    "\n",
    "def rearrange(arr, n):\n",
    "    wrongIndex = -1\n",
    "    \n",
    "    for i in range(n):\n",
    "        if wrongIndex == -1:\n",
    "            if((arr[i] < 0 and i % 2 == 1) or (arr[i] >= 0 and i % 2 == 0)):\n",
    "                wrongIndex = i\n",
    "                \n",
    "                \n",
    "        elif wrongIndex >= 0:\n",
    "            if((arr[i] >= 0 and arr[wrongIndex] < 0) or (arr[i] < 0 and arr[wrongIndex] >= 0)):\n",
    "                arr = rotateRight(arr, i, wrongIndex)\n",
    "                \n",
    "                if(i - wrongIndex > 2):\n",
    "                    wrongIndex += 2\n",
    "                else:\n",
    "                    wrongIndex = -1\n",
    "                \n",
    "\n",
    "\n",
    "arr = [9, 4, -2, -1, 5, 0, -5, -3, 2]\n",
    "n = len(arr)\n",
    "\n",
    "ob = Solution()\n",
    "\n",
    "an = ob.rearrange(arr, n)\n",
    "\n",
    "print(an)"
   ]
  },
  {
   "cell_type": "markdown",
   "id": "detected-interest",
   "metadata": {},
   "source": [
    "Using Extra Space O(N)"
   ]
  },
  {
   "cell_type": "code",
   "execution_count": 18,
   "id": "trying-cookbook",
   "metadata": {},
   "outputs": [
    {
     "name": "stdout",
     "output_type": "stream",
     "text": [
      "[-5, 5, -2, 2, -8, 4, 7, 1, 8, 0]\n"
     ]
    }
   ],
   "source": [
    "#Array should start with Negative elementS\n",
    "\n",
    "\n",
    "\n",
    "class Solution:\n",
    "    \n",
    "    def rearrange(self, arr, n):\n",
    "        pos = []\n",
    "        neg = []\n",
    "        \n",
    "        for i in range(n):\n",
    "            if arr[i] >= 0:\n",
    "                pos.append(arr[i])\n",
    "            else:\n",
    "                neg.append(arr[i])\n",
    "                \n",
    "        i = 0\n",
    "        j = 0\n",
    "        n1 = len(pos)\n",
    "        n2 = len(neg)\n",
    "        k = 0\n",
    "        \n",
    "        while(i < n1 and j < n2):\n",
    "            if k % 2 == 0:\n",
    "                arr[k] = neg[j]\n",
    "                j += 1\n",
    "                k += 1\n",
    "            elif k % 2 == 1:\n",
    "                arr[k] = pos[i]\n",
    "                i += 1\n",
    "                k += 1\n",
    "                \n",
    "        while(i < n1):\n",
    "            arr[k] = pos[i]\n",
    "            k += 1\n",
    "            i += 1\n",
    "            \n",
    "        while(j < n2):\n",
    "            arr[k] = neg[j]\n",
    "            k += 1\n",
    "            j += 1\n",
    "            \n",
    "        return arr\n",
    "    \n",
    "\n",
    "\n",
    "arr = [-5, -2, 5, 2, 4, 7, 1, 8, 0, -8]\n",
    "n = len(arr)\n",
    "\n",
    "ob = Solution()\n",
    "\n",
    "ans = ob.rearrange(arr, n)\n",
    "\n",
    "print(arr)"
   ]
  },
  {
   "cell_type": "code",
   "execution_count": 46,
   "id": "adaptive-operator",
   "metadata": {},
   "outputs": [
    {
     "name": "stdout",
     "output_type": "stream",
     "text": [
      "[5, -5, 2, -2, 4, -8, 7, 1, 8, 0]\n"
     ]
    }
   ],
   "source": [
    "#Array should start with Positive elementS\n",
    "\n",
    "\n",
    "\n",
    "class Solution:\n",
    "    \n",
    "    def rearrange(self, arr, n):\n",
    "        pos = []\n",
    "        neg = []\n",
    "        \n",
    "        for i in range(n):\n",
    "            if arr[i] >= 0:\n",
    "                pos.append(arr[i])\n",
    "            else:\n",
    "                neg.append(arr[i])\n",
    "                \n",
    "        i = 0\n",
    "        j = 0\n",
    "        n1 = len(pos)\n",
    "        n2 = len(neg)\n",
    "        k = 0\n",
    "        \n",
    "        while(i < n1 and j < n2):\n",
    "            if k % 2 == 1:\n",
    "                arr[k] = neg[j]\n",
    "                j += 1\n",
    "                k += 1\n",
    "            elif k % 2 == 0:\n",
    "                arr[k] = pos[i]\n",
    "                i += 1\n",
    "                k += 1\n",
    "                \n",
    "        while(i < n1):\n",
    "            arr[k] = pos[i]\n",
    "            k += 1\n",
    "            i += 1\n",
    "            \n",
    "        while(j < n2):\n",
    "            arr[k] = neg[j]\n",
    "            k += 1\n",
    "            j += 1\n",
    "            \n",
    "        return arr\n",
    "    \n",
    "\n",
    "\n",
    "arr = [-5, -2, 5, 2, 4, 7, 1, 8, 0, -8]\n",
    "n = len(arr)\n",
    "\n",
    "ob = Solution()\n",
    "\n",
    "ans = ob.rearrange(arr, n)\n",
    "\n",
    "print(arr)"
   ]
  },
  {
   "cell_type": "code",
   "execution_count": null,
   "id": "irish-witness",
   "metadata": {},
   "outputs": [],
   "source": []
  }
 ],
 "metadata": {
  "kernelspec": {
   "display_name": "Python 3",
   "language": "python",
   "name": "python3"
  },
  "language_info": {
   "codemirror_mode": {
    "name": "ipython",
    "version": 3
   },
   "file_extension": ".py",
   "mimetype": "text/x-python",
   "name": "python",
   "nbconvert_exporter": "python",
   "pygments_lexer": "ipython3",
   "version": "3.8.5"
  }
 },
 "nbformat": 4,
 "nbformat_minor": 5
}
